{
 "cells": [
  {
   "cell_type": "code",
   "execution_count": 48,
   "outputs": [],
   "source": [
    "from torch import nn\n",
    "from torch.utils.data import DataLoader\n",
    "\n",
    "from torchtext.datasets import AG_NEWS\n",
    "from torchtext.data.utils import get_tokenizer\n",
    "from torchtext.vocab import build_vocab_from_iterator\n",
    "from torchtext.data.functional import to_map_style_dataset\n",
    "\n",
    "from kheiron import Trainer, TrainingOptions\n",
    "import torch\n",
    "\n",
    "\n",
    "DEVICE = torch.device(\"cuda\" if torch.cuda.is_available() else \"cpu\")"
   ],
   "metadata": {
    "collapsed": false,
    "pycharm": {
     "name": "#%%\n"
    }
   }
  },
  {
   "cell_type": "code",
   "execution_count": 49,
   "outputs": [],
   "source": [
    "tokenizer = get_tokenizer('basic_english')\n",
    "train_iter, test_iter = AG_NEWS()\n",
    "\n",
    "def yield_tokens(data_iter):\n",
    "    for _, text in data_iter:\n",
    "        yield tokenizer(text)\n",
    "\n",
    "vocab = build_vocab_from_iterator(yield_tokens(train_iter), specials=[\"<unk>\"])\n",
    "vocab.set_default_index(vocab[\"<unk>\"])"
   ],
   "metadata": {
    "collapsed": false,
    "pycharm": {
     "name": "#%%\n"
    }
   }
  },
  {
   "cell_type": "code",
   "execution_count": 50,
   "outputs": [],
   "source": [
    "text_pipeline = lambda x: vocab(tokenizer(x))\n",
    "label_pipeline = lambda x: int(x) - 1\n",
    "\n",
    "def collate_batch(batch):\n",
    "    label_list, text_list, offsets = [], [], [0]\n",
    "    for (_label, _text) in batch:\n",
    "         label_list.append(label_pipeline(_label))\n",
    "         processed_text = torch.tensor(text_pipeline(_text), dtype=torch.int64)\n",
    "         text_list.append(processed_text)\n",
    "         offsets.append(processed_text.size(0))\n",
    "    label_list = torch.tensor(label_list, dtype=torch.int64)\n",
    "    offsets = torch.tensor(offsets[:-1]).cumsum(dim=0)\n",
    "    text_list = torch.cat(text_list)\n",
    "    return {'labels': label_list.to(DEVICE),\n",
    "            'text': text_list.to(DEVICE),\n",
    "            'offsets': offsets.to(DEVICE)\n",
    "            }"
   ],
   "metadata": {
    "collapsed": false,
    "pycharm": {
     "name": "#%%\n"
    }
   }
  },
  {
   "cell_type": "code",
   "execution_count": 51,
   "outputs": [],
   "source": [
    "class TextClassificationModel(nn.Module):\n",
    "\n",
    "    def __init__(self, vocab_size, embed_dim, num_class):\n",
    "        super(TextClassificationModel, self).__init__()\n",
    "        self.embedding = nn.EmbeddingBag(vocab_size, embed_dim, sparse=True)\n",
    "        self.fc = nn.Linear(embed_dim, num_class)\n",
    "        self.init_weights()\n",
    "\n",
    "    def init_weights(self):\n",
    "        initrange = 0.5\n",
    "        self.embedding.weight.data.uniform_(-initrange, initrange)\n",
    "        self.fc.weight.data.uniform_(-initrange, initrange)\n",
    "        self.fc.bias.data.zero_()\n",
    "\n",
    "    def forward(self, text, labels, offsets):\n",
    "        embedded = self.embedding(text, offsets)\n",
    "        criterion = torch.nn.CrossEntropyLoss()\n",
    "        predicted_label = self.fc(embedded)\n",
    "        loss = criterion(predicted_label, labels)\n",
    "        return {'logits':predicted_label, 'loss': loss}"
   ],
   "metadata": {
    "collapsed": false,
    "pycharm": {
     "name": "#%%\n"
    }
   }
  },
  {
   "cell_type": "code",
   "execution_count": 52,
   "outputs": [],
   "source": [
    "num_class = len(set([label for (label, text) in train_iter]))\n",
    "vocab_size = len(vocab)\n",
    "emsize = 64\n",
    "model = TextClassificationModel(vocab_size, emsize, num_class).to(DEVICE)"
   ],
   "metadata": {
    "collapsed": false,
    "pycharm": {
     "name": "#%%\n"
    }
   }
  },
  {
   "cell_type": "code",
   "execution_count": 53,
   "outputs": [],
   "source": [
    "train_dataset = to_map_style_dataset(train_iter)\n",
    "test_dataset = to_map_style_dataset(test_iter)\n",
    "\n",
    "options = TrainingOptions(task='text-classification',\n",
    "                          epochs=10,\n",
    "                          learning_rate=5.0,\n",
    "                          train_batch_size=64,\n",
    "                          eval_batch_size=64,\n",
    "                          optimizer_name='sgd',\n",
    "                          scheduler_name='steplr',\n",
    "                          metric_for_best_model='accuracy',\n",
    "                          greater_is_better=True)\n",
    "\n",
    "trainer = Trainer(model=model,\n",
    "                  opts=options,\n",
    "                  train_set=train_dataset,\n",
    "                  eval_set=test_dataset,\n",
    "                  collate_fn=collate_batch)"
   ],
   "metadata": {
    "collapsed": false,
    "pycharm": {
     "name": "#%%\n"
    }
   }
  },
  {
   "cell_type": "code",
   "execution_count": 54,
   "outputs": [
    {
     "name": "stderr",
     "output_type": "stream",
     "text": [
      "Thu, 08 Sep 2022 23:46:31 | Kheiron | INFO : ****** Trainning Process ****** \n",
      "Thu, 08 Sep 2022 23:46:32 | Kheiron | INFO :   Training task            = text-classification\n",
      "Thu, 08 Sep 2022 23:46:32 | Kheiron | INFO :   Number of samples        = 120000\n",
      "Thu, 08 Sep 2022 23:46:32 | Kheiron | INFO :   Number of epochs         = 10\n",
      "Thu, 08 Sep 2022 23:46:32 | Kheiron | INFO :   Train batch size         = 64\n",
      "Thu, 08 Sep 2022 23:46:32 | Kheiron | INFO :   Total optimization steps = 18750\n",
      "Thu, 08 Sep 2022 23:46:32 | Kheiron | INFO :   Evaluation strategy      = 1(epoch)\n",
      "Epoch = 1/10; Global step = 1874/18750: 100%|██████████| 1875/1875 [00:06<00:00, 277.31it/s]\n",
      "Thu, 08 Sep 2022 23:46:08 | Kheiron | INFO :   Fit epoch results: \n",
      "Thu, 08 Sep 2022 23:46:08 | Kheiron | INFO :     Key metrics: Loss: 1.4493751302083333;\n",
      "Thu, 08 Sep 2022 23:46:09 | Kheiron | INFO :     Full metrics: train_loss = 1.4493751302083333; \n",
      "Thu, 08 Sep 2022 23:46:09 | Kheiron | INFO : ****** Evaluation Process ****** \n",
      "Thu, 08 Sep 2022 23:46:09 | Kheiron | INFO :   Number of samples = 7600\n",
      "Thu, 08 Sep 2022 23:46:09 | Kheiron | INFO :   Eval batch size = 64\n",
      "Thu, 08 Sep 2022 23:46:09 | Kheiron | INFO :   Total evaluation steps = 119\n",
      "Epoch = 1/10; Global step = 1875/1: 100%|██████████| 119/119 [00:00<00:00, 405.89it/s]\n",
      "Thu, 08 Sep 2022 23:46:39 | Kheiron | INFO :    Evaluation results: \n",
      "Thu, 08 Sep 2022 23:46:39 | Kheiron | INFO :      Key metrics: Loss: 1.4470821348558955; accuracy: 25.44736842105263\n",
      "Thu, 08 Sep 2022 23:46:39 | Kheiron | INFO :      Full metrics: eval_accuracy = 25.44736842105263; eval_micro_precision = 25.44736842105263; eval_micro_recall = 25.44736842105263; eval_micro_f1 = 25.44736842105263; eval_macro_precision = 13.819995881350112; eval_macro_recall = 25.44736842105263; eval_macro_f1 = 13.124714007613445; eval_loss = 1.4470821348558955; \n",
      "Thu, 08 Sep 2022 23:46:39 | Kheiron | INFO : Saving model checkpoint to trainer_output_233637_08Sep2022/pytorch_model.bin\n",
      "Epoch = 2/10; Global step = 3749/18750: 100%|██████████| 1875/1875 [00:06<00:00, 287.90it/s]\n",
      "Thu, 08 Sep 2022 23:46:94 | Kheiron | INFO :   Fit epoch results: \n",
      "Thu, 08 Sep 2022 23:46:94 | Kheiron | INFO :     Key metrics: Loss: 1.4492986979166667;\n",
      "Thu, 08 Sep 2022 23:46:94 | Kheiron | INFO :     Full metrics: train_loss = 1.4492986979166667; \n",
      "Thu, 08 Sep 2022 23:46:94 | Kheiron | INFO : ****** Evaluation Process ****** \n",
      "Thu, 08 Sep 2022 23:46:94 | Kheiron | INFO :   Number of samples = 7600\n",
      "Thu, 08 Sep 2022 23:46:94 | Kheiron | INFO :   Eval batch size = 64\n",
      "Thu, 08 Sep 2022 23:46:94 | Kheiron | INFO :   Total evaluation steps = 119\n",
      "Epoch = 2/10; Global step = 3750/1: 100%|██████████| 119/119 [00:00<00:00, 442.73it/s]\n",
      "Thu, 08 Sep 2022 23:46:21 | Kheiron | INFO :    Evaluation results: \n",
      "Thu, 08 Sep 2022 23:46:21 | Kheiron | INFO :      Key metrics: Loss: 1.4470821348558955; accuracy: 25.44736842105263\n",
      "Thu, 08 Sep 2022 23:46:21 | Kheiron | INFO :      Full metrics: eval_accuracy = 25.44736842105263; eval_micro_precision = 25.44736842105263; eval_micro_recall = 25.44736842105263; eval_micro_f1 = 25.44736842105263; eval_macro_precision = 13.819995881350112; eval_macro_recall = 25.44736842105263; eval_macro_f1 = 13.124714007613445; eval_loss = 1.4470821348558955; \n",
      "Thu, 08 Sep 2022 23:46:22 | Kheiron | INFO : Saving model checkpoint to trainer_output_233637_08Sep2022/pytorch_model.bin\n",
      "Epoch = 3/10; Global step = 5624/18750: 100%|██████████| 1875/1875 [00:06<00:00, 272.33it/s]\n",
      "Thu, 08 Sep 2022 23:46:14 | Kheiron | INFO :   Fit epoch results: \n",
      "Thu, 08 Sep 2022 23:46:14 | Kheiron | INFO :     Key metrics: Loss: 1.449297265625;\n",
      "Thu, 08 Sep 2022 23:46:14 | Kheiron | INFO :     Full metrics: train_loss = 1.449297265625; \n",
      "Thu, 08 Sep 2022 23:46:14 | Kheiron | INFO : ****** Evaluation Process ****** \n",
      "Thu, 08 Sep 2022 23:46:14 | Kheiron | INFO :   Number of samples = 7600\n",
      "Thu, 08 Sep 2022 23:46:14 | Kheiron | INFO :   Eval batch size = 64\n",
      "Thu, 08 Sep 2022 23:46:14 | Kheiron | INFO :   Total evaluation steps = 119\n",
      "Epoch = 3/10; Global step = 5625/1: 100%|██████████| 119/119 [00:00<00:00, 401.72it/s]\n",
      "Thu, 08 Sep 2022 23:46:44 | Kheiron | INFO :    Evaluation results: \n",
      "Thu, 08 Sep 2022 23:46:44 | Kheiron | INFO :      Key metrics: Loss: 1.4470821348558955; accuracy: 25.44736842105263\n",
      "Thu, 08 Sep 2022 23:46:44 | Kheiron | INFO :      Full metrics: eval_accuracy = 25.44736842105263; eval_micro_precision = 25.44736842105263; eval_micro_recall = 25.44736842105263; eval_micro_f1 = 25.44736842105263; eval_macro_precision = 13.819995881350112; eval_macro_recall = 25.44736842105263; eval_macro_f1 = 13.124714007613445; eval_loss = 1.4470821348558955; \n",
      "Thu, 08 Sep 2022 23:46:44 | Kheiron | INFO : Saving model checkpoint to trainer_output_233637_08Sep2022/pytorch_model.bin\n",
      "Epoch = 4/10; Global step = 7499/18750: 100%|██████████| 1875/1875 [00:06<00:00, 274.24it/s]\n",
      "Thu, 08 Sep 2022 23:46:32 | Kheiron | INFO :   Fit epoch results: \n",
      "Thu, 08 Sep 2022 23:46:32 | Kheiron | INFO :     Key metrics: Loss: 1.4492973958333333;\n",
      "Thu, 08 Sep 2022 23:46:33 | Kheiron | INFO :     Full metrics: train_loss = 1.4492973958333333; \n",
      "Thu, 08 Sep 2022 23:46:33 | Kheiron | INFO : ****** Evaluation Process ****** \n",
      "Thu, 08 Sep 2022 23:46:33 | Kheiron | INFO :   Number of samples = 7600\n",
      "Thu, 08 Sep 2022 23:46:33 | Kheiron | INFO :   Eval batch size = 64\n",
      "Thu, 08 Sep 2022 23:46:33 | Kheiron | INFO :   Total evaluation steps = 119\n",
      "Epoch = 4/10; Global step = 7500/1: 100%|██████████| 119/119 [00:00<00:00, 398.11it/s]\n",
      "Thu, 08 Sep 2022 23:46:63 | Kheiron | INFO :    Evaluation results: \n",
      "Thu, 08 Sep 2022 23:46:63 | Kheiron | INFO :      Key metrics: Loss: 1.4470821348558955; accuracy: 25.44736842105263\n",
      "Thu, 08 Sep 2022 23:46:63 | Kheiron | INFO :      Full metrics: eval_accuracy = 25.44736842105263; eval_micro_precision = 25.44736842105263; eval_micro_recall = 25.44736842105263; eval_micro_f1 = 25.44736842105263; eval_macro_precision = 13.819995881350112; eval_macro_recall = 25.44736842105263; eval_macro_f1 = 13.124714007613445; eval_loss = 1.4470821348558955; \n",
      "Thu, 08 Sep 2022 23:46:63 | Kheiron | INFO : Saving model checkpoint to trainer_output_233637_08Sep2022/pytorch_model.bin\n",
      "Epoch = 5/10; Global step = 9374/18750: 100%|██████████| 1875/1875 [00:06<00:00, 271.59it/s]\n",
      "Thu, 08 Sep 2022 23:46:58 | Kheiron | INFO :   Fit epoch results: \n",
      "Thu, 08 Sep 2022 23:46:58 | Kheiron | INFO :     Key metrics: Loss: 1.449296875;\n",
      "Thu, 08 Sep 2022 23:46:58 | Kheiron | INFO :     Full metrics: train_loss = 1.449296875; \n",
      "Thu, 08 Sep 2022 23:46:58 | Kheiron | INFO : ****** Evaluation Process ****** \n",
      "Thu, 08 Sep 2022 23:46:58 | Kheiron | INFO :   Number of samples = 7600\n",
      "Thu, 08 Sep 2022 23:46:58 | Kheiron | INFO :   Eval batch size = 64\n",
      "Thu, 08 Sep 2022 23:46:58 | Kheiron | INFO :   Total evaluation steps = 119\n",
      "Epoch = 5/10; Global step = 9375/1: 100%|██████████| 119/119 [00:00<00:00, 405.28it/s]\n",
      "Thu, 08 Sep 2022 23:46:88 | Kheiron | INFO :    Evaluation results: \n",
      "Thu, 08 Sep 2022 23:46:88 | Kheiron | INFO :      Key metrics: Loss: 1.4470821348558955; accuracy: 25.44736842105263\n",
      "Thu, 08 Sep 2022 23:46:88 | Kheiron | INFO :      Full metrics: eval_accuracy = 25.44736842105263; eval_micro_precision = 25.44736842105263; eval_micro_recall = 25.44736842105263; eval_micro_f1 = 25.44736842105263; eval_macro_precision = 13.819995881350112; eval_macro_recall = 25.44736842105263; eval_macro_f1 = 13.124714007613445; eval_loss = 1.4470821348558955; \n",
      "Thu, 08 Sep 2022 23:46:88 | Kheiron | INFO : Saving model checkpoint to trainer_output_233637_08Sep2022/pytorch_model.bin\n",
      "Epoch = 6/10; Global step = 11249/18750: 100%|██████████| 1875/1875 [00:06<00:00, 277.30it/s]\n",
      "Thu, 08 Sep 2022 23:46:68 | Kheiron | INFO :   Fit epoch results: \n",
      "Thu, 08 Sep 2022 23:46:68 | Kheiron | INFO :     Key metrics: Loss: 1.4492955729166668;\n",
      "Thu, 08 Sep 2022 23:46:68 | Kheiron | INFO :     Full metrics: train_loss = 1.4492955729166668; \n",
      "Thu, 08 Sep 2022 23:46:68 | Kheiron | INFO : ****** Evaluation Process ****** \n",
      "Thu, 08 Sep 2022 23:46:68 | Kheiron | INFO :   Number of samples = 7600\n",
      "Thu, 08 Sep 2022 23:46:68 | Kheiron | INFO :   Eval batch size = 64\n",
      "Thu, 08 Sep 2022 23:46:68 | Kheiron | INFO :   Total evaluation steps = 119\n",
      "Epoch = 6/10; Global step = 11250/1: 100%|██████████| 119/119 [00:00<00:00, 393.88it/s]\n",
      "Thu, 08 Sep 2022 23:46:99 | Kheiron | INFO :    Evaluation results: \n",
      "Thu, 08 Sep 2022 23:46:99 | Kheiron | INFO :      Key metrics: Loss: 1.4470821348558955; accuracy: 25.44736842105263\n",
      "Thu, 08 Sep 2022 23:46:99 | Kheiron | INFO :      Full metrics: eval_accuracy = 25.44736842105263; eval_micro_precision = 25.44736842105263; eval_micro_recall = 25.44736842105263; eval_micro_f1 = 25.44736842105263; eval_macro_precision = 13.819995881350112; eval_macro_recall = 25.44736842105263; eval_macro_f1 = 13.124714007613445; eval_loss = 1.4470821348558955; \n",
      "Thu, 08 Sep 2022 23:46:99 | Kheiron | INFO : Saving model checkpoint to trainer_output_233637_08Sep2022/pytorch_model.bin\n",
      "Epoch = 7/10; Global step = 13124/18750: 100%|██████████| 1875/1875 [00:07<00:00, 238.13it/s]\n",
      "Thu, 08 Sep 2022 23:46:90 | Kheiron | INFO :   Fit epoch results: \n",
      "Thu, 08 Sep 2022 23:46:90 | Kheiron | INFO :     Key metrics: Loss: 1.4492971354166666;\n",
      "Thu, 08 Sep 2022 23:46:90 | Kheiron | INFO :     Full metrics: train_loss = 1.4492971354166666; \n",
      "Thu, 08 Sep 2022 23:46:90 | Kheiron | INFO : ****** Evaluation Process ****** \n",
      "Thu, 08 Sep 2022 23:46:90 | Kheiron | INFO :   Number of samples = 7600\n",
      "Thu, 08 Sep 2022 23:46:90 | Kheiron | INFO :   Eval batch size = 64\n",
      "Thu, 08 Sep 2022 23:46:90 | Kheiron | INFO :   Total evaluation steps = 119\n",
      "Epoch = 7/10; Global step = 13125/1: 100%|██████████| 119/119 [00:00<00:00, 389.64it/s]\n",
      "Thu, 08 Sep 2022 23:46:21 | Kheiron | INFO :    Evaluation results: \n",
      "Thu, 08 Sep 2022 23:46:21 | Kheiron | INFO :      Key metrics: Loss: 1.4470821348558955; accuracy: 25.44736842105263\n",
      "Thu, 08 Sep 2022 23:46:21 | Kheiron | INFO :      Full metrics: eval_accuracy = 25.44736842105263; eval_micro_precision = 25.44736842105263; eval_micro_recall = 25.44736842105263; eval_micro_f1 = 25.44736842105263; eval_macro_precision = 13.819995881350112; eval_macro_recall = 25.44736842105263; eval_macro_f1 = 13.124714007613445; eval_loss = 1.4470821348558955; \n",
      "Thu, 08 Sep 2022 23:46:21 | Kheiron | INFO : Saving model checkpoint to trainer_output_233637_08Sep2022/pytorch_model.bin\n",
      "Epoch = 8/10; Global step = 14999/18750: 100%|██████████| 1875/1875 [00:07<00:00, 253.47it/s]\n",
      "Thu, 08 Sep 2022 23:47:65 | Kheiron | INFO :   Fit epoch results: \n",
      "Thu, 08 Sep 2022 23:47:65 | Kheiron | INFO :     Key metrics: Loss: 1.4492977864583334;\n",
      "Thu, 08 Sep 2022 23:47:65 | Kheiron | INFO :     Full metrics: train_loss = 1.4492977864583334; \n",
      "Thu, 08 Sep 2022 23:47:65 | Kheiron | INFO : ****** Evaluation Process ****** \n",
      "Thu, 08 Sep 2022 23:47:65 | Kheiron | INFO :   Number of samples = 7600\n",
      "Thu, 08 Sep 2022 23:47:65 | Kheiron | INFO :   Eval batch size = 64\n",
      "Thu, 08 Sep 2022 23:47:65 | Kheiron | INFO :   Total evaluation steps = 119\n",
      "Epoch = 8/10; Global step = 15000/1: 100%|██████████| 119/119 [00:00<00:00, 416.17it/s]\n",
      "Thu, 08 Sep 2022 23:47:94 | Kheiron | INFO :    Evaluation results: \n",
      "Thu, 08 Sep 2022 23:47:94 | Kheiron | INFO :      Key metrics: Loss: 1.4470821348558955; accuracy: 25.44736842105263\n",
      "Thu, 08 Sep 2022 23:47:94 | Kheiron | INFO :      Full metrics: eval_accuracy = 25.44736842105263; eval_micro_precision = 25.44736842105263; eval_micro_recall = 25.44736842105263; eval_micro_f1 = 25.44736842105263; eval_macro_precision = 13.819995881350112; eval_macro_recall = 25.44736842105263; eval_macro_f1 = 13.124714007613445; eval_loss = 1.4470821348558955; \n",
      "Thu, 08 Sep 2022 23:47:95 | Kheiron | INFO : Saving model checkpoint to trainer_output_233637_08Sep2022/pytorch_model.bin\n",
      "Epoch = 9/10; Global step = 16874/18750: 100%|██████████| 1875/1875 [00:08<00:00, 218.96it/s]\n",
      "Thu, 08 Sep 2022 23:47:55 | Kheiron | INFO :   Fit epoch results: \n",
      "Thu, 08 Sep 2022 23:47:55 | Kheiron | INFO :     Key metrics: Loss: 1.449295703125;\n",
      "Thu, 08 Sep 2022 23:47:55 | Kheiron | INFO :     Full metrics: train_loss = 1.449295703125; \n",
      "Thu, 08 Sep 2022 23:47:55 | Kheiron | INFO : ****** Evaluation Process ****** \n",
      "Thu, 08 Sep 2022 23:47:55 | Kheiron | INFO :   Number of samples = 7600\n",
      "Thu, 08 Sep 2022 23:47:55 | Kheiron | INFO :   Eval batch size = 64\n",
      "Thu, 08 Sep 2022 23:47:55 | Kheiron | INFO :   Total evaluation steps = 119\n",
      "Epoch = 9/10; Global step = 16875/1: 100%|██████████| 119/119 [00:00<00:00, 388.51it/s]\n",
      "Thu, 08 Sep 2022 23:47:86 | Kheiron | INFO :    Evaluation results: \n",
      "Thu, 08 Sep 2022 23:47:86 | Kheiron | INFO :      Key metrics: Loss: 1.4470821348558955; accuracy: 25.44736842105263\n",
      "Thu, 08 Sep 2022 23:47:86 | Kheiron | INFO :      Full metrics: eval_accuracy = 25.44736842105263; eval_micro_precision = 25.44736842105263; eval_micro_recall = 25.44736842105263; eval_micro_f1 = 25.44736842105263; eval_macro_precision = 13.819995881350112; eval_macro_recall = 25.44736842105263; eval_macro_f1 = 13.124714007613445; eval_loss = 1.4470821348558955; \n",
      "Thu, 08 Sep 2022 23:47:86 | Kheiron | INFO : Saving model checkpoint to trainer_output_233637_08Sep2022/pytorch_model.bin\n"
     ]
    }
   ],
   "source": [
    "trainer.train()"
   ],
   "metadata": {
    "collapsed": false,
    "pycharm": {
     "name": "#%%\n"
    }
   }
  }
 ],
 "metadata": {
  "kernelspec": {
   "display_name": "Python 3",
   "language": "python",
   "name": "python3"
  },
  "language_info": {
   "codemirror_mode": {
    "name": "ipython",
    "version": 2
   },
   "file_extension": ".py",
   "mimetype": "text/x-python",
   "name": "python",
   "nbconvert_exporter": "python",
   "pygments_lexer": "ipython2",
   "version": "2.7.6"
  }
 },
 "nbformat": 4,
 "nbformat_minor": 0
}